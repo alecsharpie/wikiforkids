{
 "cells": [
  {
   "cell_type": "code",
   "execution_count": null,
   "id": "aef871f5",
   "metadata": {},
   "outputs": [],
   "source": [
    "\"\"\"\n",
    "    get_category_items.py\n",
    "\n",
    "    MediaWiki API Demos\n",
    "    Demo of `Categorymembers` module : List twenty items in a category\n",
    "\n",
    "    MIT License\n",
    "\"\"\"\n",
    "\n",
    "import requests\n",
    "\n",
    "S = requests.Session()\n",
    "\n",
    "URL = \"https://en.wikipedia.org/w/api.php\"\n",
    "\n",
    "PARAMS = {\n",
    "    \"action\": \"query\",\n",
    "    \"cmtitle\": \"Category:Physics\",\n",
    "    \"cmlimit\": \"20\",\n",
    "    \"list\": \"categorymembers\",\n",
    "    \"format\": \"json\"\n",
    "}\n",
    "\n",
    "R = S.get(url=URL, params=PARAMS)\n",
    "DATA = R.json()\n",
    "\n",
    "PAGES = DATA['query']['categorymembers']\n",
    "\n",
    "for page in PAGES:\n",
    "    print(page['title'])"
   ]
  }
 ],
 "metadata": {
  "kernelspec": {
   "display_name": "Python 3 (ipykernel)",
   "language": "python",
   "name": "python3"
  },
  "language_info": {
   "codemirror_mode": {
    "name": "ipython",
    "version": 3
   },
   "file_extension": ".py",
   "mimetype": "text/x-python",
   "name": "python",
   "nbconvert_exporter": "python",
   "pygments_lexer": "ipython3",
   "version": "3.8.6"
  }
 },
 "nbformat": 4,
 "nbformat_minor": 5
}
