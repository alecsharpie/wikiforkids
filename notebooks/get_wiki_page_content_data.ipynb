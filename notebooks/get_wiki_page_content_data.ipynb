{
 "cells": [
  {
   "cell_type": "code",
   "execution_count": 1,
   "id": "ad8e8740",
   "metadata": {},
   "outputs": [
    {
     "name": "stdout",
     "output_type": "stream",
     "text": [
      "Physics\n",
      "Portal:Physics\n",
      "Coulomb crystal\n",
      "Electroreflectance\n",
      "Category:Concepts in physics\n",
      "Category:Subfields of physics\n",
      "Category:Physicists\n",
      "Category:Physics awards\n",
      "Category:History of physics\n",
      "Category:Physics-related lists\n",
      "Category:Physics literature\n",
      "Category:Physical modeling\n",
      "Category:Physics organizations\n",
      "Category:Physics stubs\n"
     ]
    }
   ],
   "source": [
    "\"\"\"\n",
    "    get_category_items.py\n",
    "\n",
    "    MediaWiki API Demos\n",
    "    Demo of `Categorymembers` module : List twenty items in a category\n",
    "\n",
    "    MIT License\n",
    "\"\"\"\n",
    "\n",
    "import requests\n",
    "\n",
    "S = requests.Session()\n",
    "\n",
    "URL = \"https://en.wikipedia.org/w/api.php\"\n",
    "\n",
    "PARAMS = {\n",
    "    \"action\": \"query\",\n",
    "    \"cmtitle\": \"Category:Physics\",\n",
    "    \"cmlimit\": \"20\",\n",
    "    \"list\": \"categorymembers\",\n",
    "    \"format\": \"json\"\n",
    "}\n",
    "\n",
    "R = S.get(url=URL, params=PARAMS)\n",
    "DATA = R.json()\n",
    "\n",
    "PAGES = DATA['query']['categorymembers']\n",
    "\n",
    "for page in PAGES:\n",
    "    print(page['title'])"
   ]
  },
  {
   "cell_type": "code",
   "execution_count": null,
   "id": "98e87c57",
   "metadata": {},
   "outputs": [],
   "source": [
    "#get plain text wikipedia from api"
   ]
  },
  {
   "cell_type": "code",
   "execution_count": 26,
   "id": "a2e3c9a7",
   "metadata": {
    "scrolled": true
   },
   "outputs": [
    {
     "data": {
      "text/plain": [
       "{'batchcomplete': '',\n",
       " 'warnings': {'extracts': {'*': 'The value \"5000\" for parameter \"exchars\" must be between 1 and 1,200.'}},\n",
       " 'query': {'pages': {'14640471': {'pageid': 14640471,\n",
       "    'ns': 0,\n",
       "    'title': 'Mars',\n",
       "    'extract': 'Mars is the fourth planet from the Sun and the second-smallest planet in the Solar System, being larger than only Mercury. In English, Mars carries the name of the Roman god of war and is often referred to as the \"Red Planet\". The latter refers to the effect of the iron oxide prevalent on Mars\\'s surface, which gives it a reddish appearance, that is distinctive among the astronomical bodies visible to the naked eye. Mars is a terrestrial planet with a thin atmosphere, with surface features reminiscent of the impact craters of the Moon, and the valleys, deserts and polar ice caps of Earth.\\nThe days and seasons are comparable to those of Earth, because the rotation period as well as the tilt of the rotational axis relative to the ecliptic plane are similar. Mars is the site of Olympus Mons, the largest volcano and highest known mountain on any planet in the Solar System, and of Valles Marineris, one of the largest canyons in the Solar System. The smooth Borealis basin in the Northern Hemisphere covers 40% of the planet and may be a giant impact feature. Mars has two moons, Phobos and Deimos, which are small and irregularly shaped.\\nMars has been explored by several uncrewed spacecraft....'}}}}"
      ]
     },
     "execution_count": 26,
     "metadata": {},
     "output_type": "execute_result"
    }
   ],
   "source": [
    "url = 'https://en.wikipedia.org/w/api.php'\n",
    "\n",
    "params = {\n",
    "    'action': 'query',\n",
    "    'prop': 'extracts',\n",
    "    'exchars': 5000,\n",
    "    'explaintext': True,\n",
    "    'format':'json',\n",
    "    'titles':'Mars'    \n",
    "    \n",
    "}\n",
    "\n",
    "response = requests.get(url, params = params).json()\n",
    "\n",
    "\n",
    "response\n",
    "\n",
    "#requests.get('https://en.wikipedia.org/w/api.php?action=query&prop=extracts&exintro&explaintext&titles=Therion&format=json').json()"
   ]
  },
  {
   "cell_type": "code",
   "execution_count": null,
   "id": "b36f7b5e",
   "metadata": {},
   "outputs": [],
   "source": []
  }
 ],
 "metadata": {
  "kernelspec": {
   "display_name": "Python 3 (ipykernel)",
   "language": "python",
   "name": "python3"
  },
  "language_info": {
   "codemirror_mode": {
    "name": "ipython",
    "version": 3
   },
   "file_extension": ".py",
   "mimetype": "text/x-python",
   "name": "python",
   "nbconvert_exporter": "python",
   "pygments_lexer": "ipython3",
   "version": "3.8.6"
  }
 },
 "nbformat": 4,
 "nbformat_minor": 5
}
